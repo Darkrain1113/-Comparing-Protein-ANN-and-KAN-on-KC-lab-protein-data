{
 "cells": [
  {
   "cell_type": "code",
   "execution_count": 1,
   "id": "73552c9b-e176-4be1-92e3-0958e547efa1",
   "metadata": {},
   "outputs": [],
   "source": [
    "import torch\n",
    "import torch.nn as nn\n",
    "import torch.nn.functional as F\n",
    "import torch.optim as optim\n",
    "import torchvision\n",
    "from torch.utils.data import DataLoader\n",
    "from tqdm import tqdm\n",
    "import pandas as pd\n",
    "from KAN import *\n",
    "import numpy as np\n",
    "from sklearn.metrics import confusion_matrix, matthews_corrcoef, accuracy_score\n",
    "from sklearn.model_selection import train_test_split\n",
    "from sklearn.utils import shuffle\n",
    "import matplotlib.pyplot as plt\n"
   ]
  },
  {
   "cell_type": "code",
   "execution_count": 2,
   "id": "c2c90842-c93f-4be9-b192-cd2729a52c4e",
   "metadata": {},
   "outputs": [
    {
     "name": "stdout",
     "output_type": "stream",
     "text": [
      "cpu\n"
     ]
    }
   ],
   "source": [
    "device = torch.device(\"cuda\" if torch.cuda.is_available() else \"cpu\")\n",
    "print(device)"
   ]
  },
  {
   "cell_type": "code",
   "execution_count": 3,
   "id": "279eac42-0a4e-4587-80de-e38f202a4488",
   "metadata": {},
   "outputs": [],
   "source": [
    "train_positive_pt5 = pd.read_csv(\"train_positive_ProtT5-XL-UniRef50.csv\", header = None).iloc[:,2:]\n",
    "train_negative_pt5 = pd.read_csv(\"train_negative_ProtT5-XL-UniRef50.csv\", header = None).iloc[:,2:]\n",
    "test_positive_pt5 = pd.read_csv(\"test_positive_ProtT5-XL-UniRef50.csv\", header = None).iloc[:,2:]\n",
    "test_negative_pt5 = pd.read_csv(\"test_negative_ProtT5-XL-UniRef50.csv\", header = None).iloc[:,2:]\n",
    "\n",
    "\n",
    "# create labels\n",
    "train_positive_labels = np.ones(train_positive_pt5.shape[0])\n",
    "train_negative_labels = np.zeros(train_negative_pt5.shape[0])\n",
    "test_positive_labels = np.ones(test_positive_pt5.shape[0])\n",
    "test_negative_labels = np.zeros(test_negative_pt5.shape[0])\n",
    "\n",
    "# stack positive and negative data together\n",
    "X_train_pt5 = np.vstack((train_positive_pt5,train_negative_pt5))\n",
    "X_test_pt5 = np.vstack((test_positive_pt5,test_negative_pt5))\n",
    "y_train = np.concatenate((train_positive_labels, train_negative_labels), axis = 0)\n",
    "y_test = np.concatenate((test_positive_labels, test_negative_labels), axis = 0)\n",
    "\n",
    "# shuffle X and y together\n",
    "X_train_pt5, y_train = shuffle(X_train_pt5, y_train)\n",
    "X_test_pt5, y_test = shuffle(X_test_pt5, y_test)"
   ]
  },
  {
   "cell_type": "code",
   "execution_count": 4,
   "id": "c7f9b655-2b88-441b-940c-528553b338cf",
   "metadata": {},
   "outputs": [],
   "source": [
    "x_train_tf = torch.from_numpy(X_train_pt5).to(torch.float32)\n",
    "x_test_tf = torch.from_numpy(X_test_pt5).to(torch.float32)\n",
    "y_train_tf = torch.from_numpy(y_train).to(torch.float32)\n",
    "y_test_tf = torch.from_numpy(y_test).to(torch.float32)"
   ]
  },
  {
   "cell_type": "code",
   "execution_count": 11,
   "id": "2377f5f9-25c3-47e5-a920-abfd74ed0591",
   "metadata": {},
   "outputs": [],
   "source": [
    "trainloader = DataLoader(list(zip(x_train_tf, y_train_tf)), batch_size=1024, shuffle=True)\n",
    "testloader = DataLoader(list(zip(x_test_tf, y_test_tf)), batch_size=1024, shuffle=False)"
   ]
  },
  {
   "cell_type": "code",
   "execution_count": 20,
   "id": "267396b7-927f-4e27-8ab5-65a1ba72323e",
   "metadata": {},
   "outputs": [],
   "source": [
    "model = KAN([1024, 16, 1], wavelet_type='dog')\n",
    "device = torch.device(\"cuda\" if torch.cuda.is_available() else \"cpu\")\n",
    "model.to(device)\n",
    "optimizer = optim.AdamW(model.parameters(), lr=0.0002, weight_decay=0.0005)\n",
    "scheduler = optim.lr_scheduler.ExponentialLR(optimizer, gamma=0.9)\n",
    "criterion = nn.MSELoss()"
   ]
  },
  {
   "cell_type": "code",
   "execution_count": 21,
   "id": "3fbf2eef-e3a9-4075-aa42-be814e385434",
   "metadata": {},
   "outputs": [
    {
     "name": "stdout",
     "output_type": "stream",
     "text": [
      "Epoch Number: 1\n"
     ]
    },
    {
     "name": "stderr",
     "output_type": "stream",
     "text": [
      "100%|████████████████████████████████████████████████████████████████████████████████████| 10/10 [00:08<00:00,  1.15it/s, loss=1.19, lr=0.0002]\n"
     ]
    },
    {
     "name": "stdout",
     "output_type": "stream",
     "text": [
      "TP: [1599] TN: [3322] FP: [1428] FN: [3150]\n",
      "Train Loss: 1.4156940698623657\n",
      "Train Accuracy: 0.5180545320560059\n",
      "Epoch Number: 2\n"
     ]
    },
    {
     "name": "stderr",
     "output_type": "stream",
     "text": [
      "100%|███████████████████████████████████████████████████████████████████████████████████| 10/10 [00:08<00:00,  1.12it/s, loss=1.08, lr=0.00018]\n"
     ]
    },
    {
     "name": "stdout",
     "output_type": "stream",
     "text": [
      "TP: [2012] TN: [3723] FP: [1027] FN: [2737]\n",
      "Train Loss: 1.1998140573501588\n",
      "Train Accuracy: 0.6037477629224128\n",
      "Epoch Number: 3\n"
     ]
    },
    {
     "name": "stderr",
     "output_type": "stream",
     "text": [
      "100%|██████████████████████████████████████████████████████████████████████████████████| 10/10 [00:08<00:00,  1.13it/s, loss=1.09, lr=0.000162]\n"
     ]
    },
    {
     "name": "stdout",
     "output_type": "stream",
     "text": [
      "TP: [2186] TN: [3817] FP: [933] FN: [2563]\n",
      "Train Loss: 1.1159532070159912\n",
      "Train Accuracy: 0.6319612590799032\n",
      "Epoch Number: 4\n"
     ]
    },
    {
     "name": "stderr",
     "output_type": "stream",
     "text": [
      "100%|█████████████████████████████████████████████████████████████████████████████████| 10/10 [00:08<00:00,  1.21it/s, loss=0.988, lr=0.000146]\n"
     ]
    },
    {
     "name": "stdout",
     "output_type": "stream",
     "text": [
      "TP: [2279] TN: [3894] FP: [856] FN: [2470]\n",
      "Train Loss: 1.0662566125392914\n",
      "Train Accuracy: 0.6498578797768186\n",
      "Epoch Number: 5\n"
     ]
    },
    {
     "name": "stderr",
     "output_type": "stream",
     "text": [
      "100%|██████████████████████████████████████████████████████████████████████████████████| 10/10 [00:08<00:00,  1.14it/s, loss=1.07, lr=0.000131]\n"
     ]
    },
    {
     "name": "stdout",
     "output_type": "stream",
     "text": [
      "TP: [2346] TN: [3925] FP: [825] FN: [2403]\n",
      "Train Loss: 1.042097669839859\n",
      "Train Accuracy: 0.6601747552373934\n",
      "Epoch Number: 6\n"
     ]
    },
    {
     "name": "stderr",
     "output_type": "stream",
     "text": [
      "100%|█████████████████████████████████████████████████████████████████████████████████| 10/10 [00:08<00:00,  1.17it/s, loss=0.949, lr=0.000118]\n"
     ]
    },
    {
     "name": "stdout",
     "output_type": "stream",
     "text": [
      "TP: [2417] TN: [3960] FP: [790] FN: [2332]\n",
      "Train Loss: 1.0099605321884155\n",
      "Train Accuracy: 0.6713338246131172\n",
      "Epoch Number: 7\n"
     ]
    },
    {
     "name": "stderr",
     "output_type": "stream",
     "text": [
      "100%|██████████████████████████████████████████████████████████████████████████████████| 10/10 [00:09<00:00,  1.06it/s, loss=1.01, lr=0.000106]\n"
     ]
    },
    {
     "name": "stdout",
     "output_type": "stream",
     "text": [
      "TP: [2465] TN: [4001] FP: [749] FN: [2284]\n",
      "Train Loss: 0.9949743330478669\n",
      "Train Accuracy: 0.6807032319191494\n",
      "Epoch Number: 8\n"
     ]
    },
    {
     "name": "stderr",
     "output_type": "stream",
     "text": [
      "100%|██████████████████████████████████████████████████████████████████████████████████| 10/10 [00:08<00:00,  1.16it/s, loss=0.918, lr=9.57e-5]\n"
     ]
    },
    {
     "name": "stdout",
     "output_type": "stream",
     "text": [
      "TP: [2476] TN: [4029] FP: [721] FN: [2273]\n",
      "Train Loss: 0.9725735783576965\n",
      "Train Accuracy: 0.6848089272555006\n",
      "Epoch Number: 9\n"
     ]
    },
    {
     "name": "stderr",
     "output_type": "stream",
     "text": [
      "100%|██████████████████████████████████████████████████████████████████████████████████| 10/10 [00:09<00:00,  1.07it/s, loss=0.873, lr=8.61e-5]\n"
     ]
    },
    {
     "name": "stdout",
     "output_type": "stream",
     "text": [
      "TP: [2490] TN: [4062] FP: [688] FN: [2259]\n",
      "Train Loss: 0.9572371959686279\n",
      "Train Accuracy: 0.6897568165070007\n",
      "Epoch Number: 10\n"
     ]
    },
    {
     "name": "stderr",
     "output_type": "stream",
     "text": [
      "100%|██████████████████████████████████████████████████████████████████████████████████| 10/10 [00:09<00:00,  1.11it/s, loss=0.909, lr=7.75e-5]\n"
     ]
    },
    {
     "name": "stdout",
     "output_type": "stream",
     "text": [
      "TP: [2515] TN: [4073] FP: [677] FN: [2234]\n",
      "Train Loss: 0.9492528736591339\n",
      "Train Accuracy: 0.693546689125171\n",
      "MCC: 0.19693377535787304\n",
      "Accuracy: 0.6822690638561686\n",
      "Confusion Martix: [[2033  940]\n",
      " [  85  168]]\n"
     ]
    }
   ],
   "source": [
    "epochs = 10\n",
    "for epoch in range(epochs):\n",
    "    print(f'Epoch Number: {int(epoch)+1}')\n",
    "    # Training\n",
    "    train_loss, train_correct, train_total = 0.0, 0, 0\n",
    "    tp, tn, fp, fn = 0,0,0,0\n",
    "    model.train()\n",
    "    # for samples, labels in tqdm(trainloader):\n",
    "    with tqdm(trainloader) as pbar:\n",
    "        for i, (samples, labels) in enumerate(pbar):\n",
    "            samples = samples.to(device)\n",
    "            labels = labels.to(device)\n",
    "            optimizer.zero_grad()\n",
    "            outputs = model(samples).squeeze()\n",
    "            loss = criterion(outputs, labels)\n",
    "            loss.backward()\n",
    "            optimizer.step()\n",
    "            pbar.set_postfix(loss=loss.item(), lr=optimizer.param_groups[0]['lr'])\n",
    "            \n",
    "            train_loss += loss.item()\n",
    "            pred = (outputs > 0.5).float()\n",
    "            true = labels\n",
    "            for x in range(len(pred)):\n",
    "                if pred[x] and true[x]:\n",
    "                    tp+=1\n",
    "                if not pred[x] and not true[x]:\n",
    "                    tn+=1\n",
    "                if pred[x] and not true[x]:\n",
    "                    fp+=1\n",
    "                if not pred[x] and true[x]:\n",
    "                   fn+=1\n",
    "            train_total += labels.size(0)\n",
    "            train_correct += (pred == labels).sum().item()\n",
    "\n",
    "    train_loss /= len(trainloader)\n",
    "    print(f'TP: [{tp}] TN: [{tn}] FP: [{fp}] FN: [{fn}]')\n",
    "    train_acc = (tp+tn) / (tp+tn+fp+fn)\n",
    "    print(f'Train Loss: {train_loss}')\n",
    "    print(f'Train Accuracy: {train_acc}')\n",
    "    # Update learning rate\n",
    "    scheduler.step()\n",
    "model.eval()\n",
    "y_pred_prob = []\n",
    "with torch.no_grad():\n",
    "    for samples, labels in testloader:\n",
    "        samples = samples.to(device)\n",
    "        outputs = model(samples).squeeze()\n",
    "        y_pred_prob.extend(torch.sigmoid(outputs).detach().cpu().numpy())\n",
    "y_pred_prob = np.array(y_pred_prob)\n",
    "y_pred = (y_pred_prob > 0.5).astype(int)\n",
    "y_test_np = y_test_tf.cpu().numpy()\n",
    "mcc = matthews_corrcoef(y_test_np, y_pred)\n",
    "cm = confusion_matrix(y_test_np, y_pred)\n",
    "acc = accuracy_score(y_test_np, y_pred)\n",
    "print('MCC:', mcc)\n",
    "print('Accuracy:', acc)\n",
    "print('Confusion Martix:', cm)"
   ]
  },
  {
   "cell_type": "code",
   "execution_count": null,
   "id": "691c8456-4461-4558-b00c-81db797c613f",
   "metadata": {},
   "outputs": [],
   "source": []
  }
 ],
 "metadata": {
  "kernelspec": {
   "display_name": "Python 3 (ipykernel)",
   "language": "python",
   "name": "python3"
  },
  "language_info": {
   "codemirror_mode": {
    "name": "ipython",
    "version": 3
   },
   "file_extension": ".py",
   "mimetype": "text/x-python",
   "name": "python",
   "nbconvert_exporter": "python",
   "pygments_lexer": "ipython3",
   "version": "3.12.3"
  }
 },
 "nbformat": 4,
 "nbformat_minor": 5
}
